{
 "cells": [
  {
   "cell_type": "code",
   "execution_count": 11,
   "id": "b0e7e8b5-96ce-4093-b825-0abf187e6056",
   "metadata": {},
   "outputs": [],
   "source": [
    "import numpy as np\n",
    "\n",
    "def generate_atoms_in_sphere(density, num_atoms, atom_name=\"X\"):\n",
    "    \"\"\"\n",
    "    Generates atom positions uniformly distributed in a sphere given the density and number of atoms.\n",
    "\n",
    "    Parameters:\n",
    "        density (float): Target density in atoms per cubic angstrom (Å^-3).\n",
    "        num_atoms (int): Number of atoms to generate.\n",
    "        atom_name (str): Symbol or name of the atom.\n",
    "\n",
    "    Returns:\n",
    "        List[str]: Each element is \"AtomName\\\\tX\\\\tY\\\\tZ\"\n",
    "    \"\"\"\n",
    "    # Calculate volume needed for given density and number of atoms\n",
    "    volume = num_atoms / density  # in Å^3\n",
    "    radius = (3 * volume / (4 * np.pi))**(1/3)  # radius of the sphere in Å\n",
    "\n",
    "    atoms = []\n",
    "    count = 0\n",
    "    while count < num_atoms:\n",
    "        # Generate a random point in a cube [-r, r]³\n",
    "        point = np.random.uniform(-radius, radius, size=3)\n",
    "        if np.linalg.norm(point) <= radius:  # keep only points inside the sphere\n",
    "            atoms.append(f\"{atom_name}\\t{point[0]:.3f}\\t{point[1]:.3f}\\t{point[2]:.3f}\")\n",
    "            count += 1\n",
    "\n",
    "    return atoms\n"
   ]
  },
  {
   "cell_type": "code",
   "execution_count": 18,
   "id": "8c43377a-23da-49d2-a5f1-c182b9f759e2",
   "metadata": {},
   "outputs": [
    {
     "name": "stdout",
     "output_type": "stream",
     "text": [
      "He\t-3.599\t-17.225\t5.475\n",
      "He\t-13.840\t-5.459\t0.635\n",
      "He\t-10.602\t-6.043\t4.360\n",
      "He\t9.970\t-15.664\t-2.454\n",
      "He\t-1.903\t3.111\t-1.908\n",
      "He\t-16.011\t-2.707\t9.329\n",
      "He\t8.467\t9.317\t0.816\n",
      "He\t-14.358\t1.511\t-9.239\n",
      "He\t-2.556\t11.737\t-10.274\n",
      "He\t0.020\t-8.943\t16.565\n"
     ]
    }
   ],
   "source": [
    "#testing \n",
    "atoms_list = generate_atoms_in_sphere(density=0.03, num_atoms=1000, atom_name=\"He\")\n",
    "for line in atoms_list[:10]:  # print first 10 lines\n",
    "    print(line)"
   ]
  },
  {
   "cell_type": "code",
   "execution_count": 19,
   "id": "5ed6f4c0-9da4-4d59-b0be-a7419677b2c7",
   "metadata": {},
   "outputs": [],
   "source": [
    "def save_atoms_to_xyz(filename, atoms):\n",
    "    \"\"\"\n",
    "    Save a list of atom positions to an .xyz file.\n",
    "\n",
    "    Parameters:\n",
    "        filename (str): Output file name.\n",
    "        atoms (List[str]): Atom position lines like \"AtomName\\\\tX\\\\tY\\\\tZ\".\n",
    "    \"\"\"\n",
    "    with open(filename, 'w') as f:\n",
    "        f.write(f\"{len(atoms)}\\n\")\n",
    "        for line in atoms:\n",
    "            f.write(line.replace(\"\\t\", \" \") + \"\\n\")"
   ]
  },
  {
   "cell_type": "code",
   "execution_count": 20,
   "id": "e79e3477-cb77-4203-bee7-11b09ad1af2e",
   "metadata": {},
   "outputs": [],
   "source": [
    "save_atoms_to_xyz(\"testHE1000_0p03\", atoms_list)"
   ]
  },
  {
   "cell_type": "code",
   "execution_count": null,
   "id": "43dd86f0-3114-49b6-ba41-b0a2492a46ef",
   "metadata": {},
   "outputs": [],
   "source": []
  }
 ],
 "metadata": {
  "kernelspec": {
   "display_name": "Python 3 (ipykernel)",
   "language": "python",
   "name": "python3"
  },
  "language_info": {
   "codemirror_mode": {
    "name": "ipython",
    "version": 3
   },
   "file_extension": ".py",
   "mimetype": "text/x-python",
   "name": "python",
   "nbconvert_exporter": "python",
   "pygments_lexer": "ipython3",
   "version": "3.12.4"
  }
 },
 "nbformat": 4,
 "nbformat_minor": 5
}
