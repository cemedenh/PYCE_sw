{
 "cells": [
  {
   "cell_type": "code",
   "execution_count": 1,
   "id": "6fe9048d-dee1-4d96-96cd-6943810e0e1c",
   "metadata": {},
   "outputs": [],
   "source": [
    "import abel"
   ]
  },
  {
   "cell_type": "code",
   "execution_count": 2,
   "id": "86cd14ab-b6d1-4483-8e49-26c5a5279145",
   "metadata": {},
   "outputs": [
    {
     "ename": "NameError",
     "evalue": "name 'CE_sim1' is not defined",
     "output_type": "error",
     "traceback": [
      "\u001b[1;31m---------------------------------------------------------------------------\u001b[0m",
      "\u001b[1;31mNameError\u001b[0m                                 Traceback (most recent call last)",
      "Cell \u001b[1;32mIn[2], line 8\u001b[0m\n\u001b[0;32m      3\u001b[0m \u001b[38;5;28;01mimport\u001b[39;00m \u001b[38;5;21;01mabel\u001b[39;00m\n\u001b[0;32m      7\u001b[0m \u001b[38;5;66;03m# 1. Extract velocities\u001b[39;00m\n\u001b[1;32m----> 8\u001b[0m vx \u001b[38;5;241m=\u001b[39m \u001b[43mCE_sim1\u001b[49m\u001b[38;5;241m.\u001b[39moutput_df[\u001b[38;5;124m'\u001b[39m\u001b[38;5;124mvx\u001b[39m\u001b[38;5;124m'\u001b[39m]\u001b[38;5;241m.\u001b[39mto_numpy()\n\u001b[0;32m      9\u001b[0m vy \u001b[38;5;241m=\u001b[39m CE_sim1\u001b[38;5;241m.\u001b[39moutput_df[\u001b[38;5;124m'\u001b[39m\u001b[38;5;124mvy\u001b[39m\u001b[38;5;124m'\u001b[39m]\u001b[38;5;241m.\u001b[39mto_numpy()\n\u001b[0;32m     11\u001b[0m \u001b[38;5;66;03m# 2. Create a 2D histogram (VMI image)\u001b[39;00m\n",
      "\u001b[1;31mNameError\u001b[0m: name 'CE_sim1' is not defined"
     ]
    }
   ],
   "source": [
    "import numpy as np\n",
    "import matplotlib.pyplot as plt\n",
    "import abel\n",
    "\n",
    "\n",
    "\n",
    "# 1. Extract velocities\n",
    "vx = CE_sim1.output_df['vx'].to_numpy()\n",
    "vy = CE_sim1.output_df['vy'].to_numpy()\n",
    "\n",
    "# 2. Create a 2D histogram (VMI image)\n",
    "bins = 200  # you can increase for higher resolution\n",
    "vmax = np.max(np.abs([vx, vy])) * 1.1\n",
    "H, xedges, yedges = np.histogram2d(vx, vy, bins=bins, range=[[-vmax, vmax], [-vmax, vmax]])\n",
    "\n",
    "# 3. Apply inverse Abel transform using BASEX\n",
    "transform = abel.Transform(H, method='basex', direction='inverse', symmetry_axis=0)\n",
    "reconstruction = transform.transform\n",
    "\n",
    "# 4. Plot VMI and Abel Reconstruction\n",
    "fig, axs = plt.subplots(1, 2, figsize=(12, 5))\n",
    "\n",
    "im0 = axs[0].imshow(H, extent=[-vmax, vmax, -vmax, vmax], origin='lower', cmap='plasma')\n",
    "axs[0].set_title(\"2D VMI Image (Projection)\")\n",
    "axs[0].set_xlabel(\"vx\")\n",
    "axs[0].set_ylabel(\"vy\")\n",
    "plt.colorbar(im0, ax=axs[0])\n",
    "\n",
    "im1 = axs[1].imshow(reconstruction, extent=[-vmax, vmax, -vmax, vmax], origin='lower', cmap='viridis')\n",
    "axs[1].set_title(\"Inverse Abel (3D Velocity Distribution)\")\n",
    "axs[1].set_xlabel(\"vx\")\n",
    "axs[1].set_ylabel(\"vy\")\n",
    "plt.colorbar(im1, ax=axs[1])\n",
    "\n",
    "plt.tight_layout()\n",
    "plt.show()"
   ]
  },
  {
   "cell_type": "code",
   "execution_count": null,
   "id": "3f7d069c-5e84-4109-bfe6-a5534a563738",
   "metadata": {},
   "outputs": [],
   "source": []
  }
 ],
 "metadata": {
  "kernelspec": {
   "display_name": "Python 3 (ipykernel)",
   "language": "python",
   "name": "python3"
  },
  "language_info": {
   "codemirror_mode": {
    "name": "ipython",
    "version": 3
   },
   "file_extension": ".py",
   "mimetype": "text/x-python",
   "name": "python",
   "nbconvert_exporter": "python",
   "pygments_lexer": "ipython3",
   "version": "3.12.4"
  }
 },
 "nbformat": 4,
 "nbformat_minor": 5
}
